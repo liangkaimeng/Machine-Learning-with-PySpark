{
 "cells": [
  {
   "cell_type": "code",
   "execution_count": 1,
   "metadata": {},
   "outputs": [],
   "source": [
    "\"\"\" 导入模块 \"\"\"\n",
    "from pyspark.sql import SparkSession\n",
    "from pyspark.sql.functions import *\n",
    "from pyspark.ml.feature import StringIndexer, IndexToString\n",
    "from pyspark.ml.recommendation import ALS\n",
    "from pyspark.ml.evaluation import RegressionEvaluator\n",
    "\n",
    "### 创建SparkSession对象\n",
    "spark = SparkSession.builder.appName('lin_reg').getOrCreate()"
   ]
  },
  {
   "cell_type": "code",
   "execution_count": 2,
   "metadata": {},
   "outputs": [
    {
     "data": {
      "text/plain": [
       "(100000, 3)"
      ]
     },
     "execution_count": 2,
     "metadata": {},
     "output_type": "execute_result"
    }
   ],
   "source": [
    "\"\"\" 读取数据集 \"\"\"\n",
    "df = spark.read.csv(r\"G:\\LKM\\PySark机器学习、自然语言处理与推荐系统\\推荐系统\\movie_ratings_df.csv\", inferSchema=True, header=True)\n",
    "\n",
    "### 验证数据集的形状结构\n",
    "(df.count(), len(df.columns))"
   ]
  },
  {
   "cell_type": "code",
   "execution_count": 3,
   "metadata": {},
   "outputs": [
    {
     "name": "stdout",
     "output_type": "stream",
     "text": [
      "root\n",
      " |-- userId: integer (nullable = true)\n",
      " |-- title: string (nullable = true)\n",
      " |-- rating: integer (nullable = true)\n",
      "\n"
     ]
    }
   ],
   "source": [
    "### 验证输入值的数据类型\n",
    "df.printSchema()"
   ]
  },
  {
   "cell_type": "code",
   "execution_count": 6,
   "metadata": {},
   "outputs": [
    {
     "name": "stdout",
     "output_type": "stream",
     "text": [
      "+------+--------------------------------------+------+\n",
      "|userId|title                                 |rating|\n",
      "+------+--------------------------------------+------+\n",
      "|581   |Big Night (1996)                      |5     |\n",
      "|725   |Leaving Las Vegas (1995)              |4     |\n",
      "|16    |Aladdin (1992)                        |5     |\n",
      "|830   |Toy Story (1995)                      |4     |\n",
      "|750   |Devil's Own, The (1997)               |3     |\n",
      "|149   |Cop Land (1997)                       |2     |\n",
      "|561   |Interview with the Vampire (1994)     |1     |\n",
      "|174   |Monty Python and the Holy Grail (1974)|1     |\n",
      "|399   |Godfather, The (1972)                 |2     |\n",
      "|416   |Godfather, The (1972)                 |5     |\n",
      "+------+--------------------------------------+------+\n",
      "only showing top 10 rows\n",
      "\n"
     ]
    }
   ],
   "source": [
    "### 使用rand函数查看DataFrame中的几行数据\n",
    "df.orderBy(rand()).show(10, False)"
   ]
  },
  {
   "cell_type": "code",
   "execution_count": 7,
   "metadata": {},
   "outputs": [
    {
     "name": "stdout",
     "output_type": "stream",
     "text": [
      "+------+-----+\n",
      "|userId|count|\n",
      "+------+-----+\n",
      "|405   |737  |\n",
      "|655   |685  |\n",
      "|13    |636  |\n",
      "|450   |540  |\n",
      "|276   |518  |\n",
      "|416   |493  |\n",
      "|537   |490  |\n",
      "|303   |484  |\n",
      "|234   |480  |\n",
      "|393   |448  |\n",
      "+------+-----+\n",
      "only showing top 10 rows\n",
      "\n"
     ]
    }
   ],
   "source": [
    "### 用户降序\n",
    "df.groupBy('userId').count().orderBy('count', ascending=False).show(10, False)"
   ]
  },
  {
   "cell_type": "code",
   "execution_count": 8,
   "metadata": {},
   "outputs": [
    {
     "name": "stdout",
     "output_type": "stream",
     "text": [
      "+------+-----+\n",
      "|userId|count|\n",
      "+------+-----+\n",
      "|732   |20   |\n",
      "|631   |20   |\n",
      "|572   |20   |\n",
      "|93    |20   |\n",
      "|300   |20   |\n",
      "|636   |20   |\n",
      "|926   |20   |\n",
      "|596   |20   |\n",
      "|685   |20   |\n",
      "|34    |20   |\n",
      "+------+-----+\n",
      "only showing top 10 rows\n",
      "\n"
     ]
    }
   ],
   "source": [
    "### 用户升序\n",
    "df.groupBy('userId').count().orderBy('count', ascending=True).show(10, False)"
   ]
  },
  {
   "cell_type": "code",
   "execution_count": null,
   "outputs": [],
   "source": [
    "### title计数降序\n",
    "df.groupBy('title').count().orderBy('count', ascending=False).show(10, False)"
   ],
   "metadata": {
    "collapsed": false,
    "pycharm": {
     "name": "#%%\n"
    }
   }
  },
  {
   "cell_type": "code",
   "execution_count": null,
   "outputs": [],
   "source": [
    "### title计数升序\n",
    "df.groupBy('title').count().orderBy('count', ascending=True).show(10, False)"
   ],
   "metadata": {
    "collapsed": false,
    "pycharm": {
     "name": "#%%\n"
    }
   }
  },
  {
   "cell_type": "code",
   "execution_count": null,
   "outputs": [],
   "source": [
    "\"\"\" 特征工程 \"\"\"\n",
    "### 对title列输出新的列\n",
    "stringIndexer = StringIndexer(inputCol='title', outputCol='title_new')\n",
    "model = stringIndexer.fit(df)\n",
    "indexed = model.transform(df)\n",
    "\n",
    "indexed.show(10)"
   ],
   "metadata": {
    "collapsed": false,
    "pycharm": {
     "name": "#%%\n"
    }
   }
  },
  {
   "cell_type": "code",
   "execution_count": null,
   "outputs": [],
   "source": [
    "### 重新验证电影计数\n",
    "indexed.groupBy('title_new').count().orderBy('count', ascending=False).show(10, False)"
   ],
   "metadata": {
    "collapsed": false,
    "pycharm": {
     "name": "#%%\n"
    }
   }
  },
  {
   "cell_type": "code",
   "execution_count": null,
   "outputs": [],
   "source": [
    "\"\"\" 划分数据集 \"\"\"\n",
    "train, test = indexed.randomSplit([0.75, 0.25])\n",
    "\n",
    "train.count()"
   ],
   "metadata": {
    "collapsed": false,
    "pycharm": {
     "name": "#%%\n"
    }
   }
  },
  {
   "cell_type": "code",
   "execution_count": null,
   "outputs": [],
   "source": [
    "\"\"\" 构建和训练推荐系统模型 \"\"\"\n",
    "rec = ALS(maxIter=10, regParam=0.01, userCol='userId', itemCol='title_new', ratingCol='rating', nonnegative=True, coldStartStrategy='drop')\n",
    "rec_model = rec.fit(train)"
   ],
   "metadata": {
    "collapsed": false,
    "pycharm": {
     "name": "#%%\n"
    }
   }
  },
  {
   "cell_type": "code",
   "execution_count": null,
   "outputs": [],
   "source": [
    "\"\"\" 基于测试数据进行预测和评估 \"\"\"\n",
    "predicted_ratings = rec_model.transform(test)\n",
    "predicted_ratings.printSchema()"
   ],
   "metadata": {
    "collapsed": false,
    "pycharm": {
     "name": "#%%\n"
    }
   }
  },
  {
   "cell_type": "code",
   "execution_count": null,
   "outputs": [],
   "source": [
    "\"\"\" 评估模型 \"\"\"\n",
    "evaluator = RegressionEvaluator(metricName='rmse', predictionCol='prediction', labelCol='rating')\n",
    "rmse = evaluator.evaluate(predicted_ratings)\n",
    "rmse"
   ],
   "metadata": {
    "collapsed": false,
    "pycharm": {
     "name": "#%%\n"
    }
   }
  },
  {
   "cell_type": "code",
   "execution_count": null,
   "outputs": [],
   "source": [
    "\"\"\" 创建存储独立的电影的DataFrame \"\"\"\n",
    "unique_movies = indexed.select('title_new').distinct()\n",
    "unique_movies.count()"
   ],
   "metadata": {
    "collapsed": false,
    "pycharm": {
     "name": "#%%\n"
    }
   }
  },
  {
   "cell_type": "code",
   "execution_count": null,
   "outputs": [],
   "source": [
    "a = unique_movies.alias('a')\n",
    "a.show()"
   ],
   "metadata": {
    "collapsed": false,
    "pycharm": {
     "name": "#%%\n"
    }
   }
  },
  {
   "cell_type": "code",
   "execution_count": null,
   "outputs": [],
   "source": [
    "\"\"\" 以userId=85为例子 \"\"\"\n",
    "user_id = 85"
   ],
   "metadata": {
    "collapsed": false,
    "pycharm": {
     "name": "#%%\n"
    }
   }
  },
  {
   "cell_type": "code",
   "execution_count": null,
   "outputs": [],
   "source": [
    "\"\"\" 过滤活动用户已经评过分或已经观看过的电影 \"\"\"\n",
    "watched_movies = indexed.filter(indexed['userId'] == user_id).select('title_new').distinct()\n",
    "watched_movies.count()"
   ],
   "metadata": {
    "collapsed": false,
    "pycharm": {
     "name": "#%%\n"
    }
   }
  },
  {
   "cell_type": "code",
   "execution_count": null,
   "outputs": [],
   "source": [
    "b = watched_movies.alias('b')\n",
    "b.show()"
   ],
   "metadata": {
    "collapsed": false,
    "pycharm": {
     "name": "#%%\n"
    }
   }
  },
  {
   "cell_type": "code",
   "execution_count": null,
   "outputs": [],
   "source": [
    "\"\"\" 通过过滤空值找出推荐的电影 \"\"\"\n",
    "total_movies = a.join(b, a.title_new == b.title_new, how='left')\n",
    "total_movies.show(10, False)"
   ],
   "metadata": {
    "collapsed": false,
    "pycharm": {
     "name": "#%%\n"
    }
   }
  },
  {
   "cell_type": "code",
   "execution_count": null,
   "outputs": [],
   "source": [
    "remaining_movies = total_movies.where(col('b.title_new').isNull()).select(a.title_new).distinct()\n",
    "remaining_movies.count()"
   ],
   "metadata": {
    "collapsed": false,
    "pycharm": {
     "name": "#%%\n"
    }
   }
  },
  {
   "cell_type": "code",
   "execution_count": null,
   "outputs": [],
   "source": [
    "remaining_movies = remaining_movies.withColumn('userId', lit(int(user_id)))\n",
    "remaining_movies.show(10, False)"
   ],
   "metadata": {
    "collapsed": false,
    "pycharm": {
     "name": "#%%\n"
    }
   }
  },
  {
   "cell_type": "code",
   "execution_count": null,
   "outputs": [],
   "source": [
    "\"\"\" 过滤具有最高预测评分的一些排在前面的推荐影片 \"\"\"\n",
    "recommendations = rec_model.transform(remaining_movies).orderBy('prediction', ascending=False)\n",
    "recommendations.show(5, False)"
   ],
   "metadata": {
    "collapsed": false,
    "pycharm": {
     "name": "#%%\n"
    }
   }
  },
  {
   "cell_type": "code",
   "execution_count": null,
   "outputs": [],
   "source": [
    "\"\"\" 使用IndexToString函数来创建一个可以返回电影名称的额外列 \"\"\"\n",
    "movie_title = IndexToString(inputCol='title_new', outputCol='title', labels=model.labels)\n",
    "final_recommendations = movie_title.transform(recommendations)\n",
    "final_recommendations.show(10, False)"
   ],
   "metadata": {
    "collapsed": false,
    "pycharm": {
     "name": "#%%\n"
    }
   }
  },
  {
   "cell_type": "code",
   "execution_count": 9,
   "metadata": {},
   "outputs": [
    {
     "name": "stdout",
     "output_type": "stream",
     "text": [
      "+-----------------------------+-----+\n",
      "|title                        |count|\n",
      "+-----------------------------+-----+\n",
      "|Star Wars (1977)             |583  |\n",
      "|Contact (1997)               |509  |\n",
      "|Fargo (1996)                 |508  |\n",
      "|Return of the Jedi (1983)    |507  |\n",
      "|Liar Liar (1997)             |485  |\n",
      "|English Patient, The (1996)  |481  |\n",
      "|Scream (1996)                |478  |\n",
      "|Toy Story (1995)             |452  |\n",
      "|Air Force One (1997)         |431  |\n",
      "|Independence Day (ID4) (1996)|429  |\n",
      "+-----------------------------+-----+\n",
      "only showing top 10 rows\n",
      "\n"
     ]
    }
   ],
   "source": [
    "\"\"\" 使用IndexToString函数来创建一个可以返回电影名称的额外列 \"\"\"\n",
    "movie_title = IndexToString(inputCol='title_new', outputCol='title', labels=model.labels)\n",
    "final_recommendations = movie_title.transform(recommendations)\n",
    "final_recommendations.show(10, False)"
   ]
  },
  {
   "cell_type": "code",
   "execution_count": 10,
   "metadata": {},
   "outputs": [
    {
     "name": "stdout",
     "output_type": "stream",
     "text": [
      "+-----------------------------------------+-----+\n",
      "|title                                    |count|\n",
      "+-----------------------------------------+-----+\n",
      "|Aiqing wansui (1994)                     |1    |\n",
      "|Mad Dog Time (1996)                      |1    |\n",
      "|Lashou shentan (1992)                    |1    |\n",
      "|Fear, The (1995)                         |1    |\n",
      "|Next Step, The (1995)                    |1    |\n",
      "|Target (1995)                            |1    |\n",
      "|Leopard Son, The (1996)                  |1    |\n",
      "|Vie est belle, La (Life is Rosey) (1987) |1    |\n",
      "|Modern Affair, A (1995)                  |1    |\n",
      "|JLG/JLG - autoportrait de d�cembre (1994)|1    |\n",
      "+-----------------------------------------+-----+\n",
      "only showing top 10 rows\n",
      "\n"
     ]
    }
   ],
   "source": [
    "### title计数升序\n",
    "df.groupBy('title').count().orderBy('count', ascending=True).show(10, False)"
   ]
  },
  {
   "cell_type": "code",
   "execution_count": 11,
   "metadata": {},
   "outputs": [
    {
     "name": "stdout",
     "output_type": "stream",
     "text": [
      "+------+------------+------+---------+\n",
      "|userId|       title|rating|title_new|\n",
      "+------+------------+------+---------+\n",
      "|   196|Kolya (1996)|     3|    287.0|\n",
      "|    63|Kolya (1996)|     3|    287.0|\n",
      "|   226|Kolya (1996)|     5|    287.0|\n",
      "|   154|Kolya (1996)|     3|    287.0|\n",
      "|   306|Kolya (1996)|     5|    287.0|\n",
      "|   296|Kolya (1996)|     4|    287.0|\n",
      "|    34|Kolya (1996)|     5|    287.0|\n",
      "|   271|Kolya (1996)|     4|    287.0|\n",
      "|   201|Kolya (1996)|     4|    287.0|\n",
      "|   209|Kolya (1996)|     4|    287.0|\n",
      "+------+------------+------+---------+\n",
      "only showing top 10 rows\n",
      "\n"
     ]
    }
   ],
   "source": [
    "\"\"\" 特征工程 \"\"\"\n",
    "### 对title列输出新的列\n",
    "stringIndexer = StringIndexer(inputCol='title', outputCol='title_new')\n",
    "model = stringIndexer.fit(df)\n",
    "indexed = model.transform(df)\n",
    "\n",
    "indexed.show(10)"
   ]
  },
  {
   "cell_type": "code",
   "execution_count": 12,
   "metadata": {},
   "outputs": [
    {
     "name": "stdout",
     "output_type": "stream",
     "text": [
      "+---------+-----+\n",
      "|title_new|count|\n",
      "+---------+-----+\n",
      "|0.0      |583  |\n",
      "|1.0      |509  |\n",
      "|2.0      |508  |\n",
      "|3.0      |507  |\n",
      "|4.0      |485  |\n",
      "|5.0      |481  |\n",
      "|6.0      |478  |\n",
      "|7.0      |452  |\n",
      "|8.0      |431  |\n",
      "|9.0      |429  |\n",
      "+---------+-----+\n",
      "only showing top 10 rows\n",
      "\n"
     ]
    }
   ],
   "source": [
    "### 重新验证电影计数\n",
    "indexed.groupBy('title_new').count().orderBy('count', ascending=False).show(10, False)"
   ]
  },
  {
   "cell_type": "code",
   "execution_count": 13,
   "metadata": {},
   "outputs": [
    {
     "data": {
      "text/plain": [
       "75012"
      ]
     },
     "execution_count": 13,
     "metadata": {},
     "output_type": "execute_result"
    }
   ],
   "source": [
    "\"\"\" 划分数据集 \"\"\"\n",
    "train, test = indexed.randomSplit([0.75, 0.25])\n",
    "\n",
    "train.count()"
   ]
  },
  {
   "cell_type": "code",
   "execution_count": 14,
   "metadata": {},
   "outputs": [],
   "source": [
    "\"\"\" 构建和训练推荐系统模型 \"\"\"\n",
    "rec = ALS(maxIter=10, regParam=0.01, userCol='userId', itemCol='title_new', ratingCol='rating', nonnegative=True, coldStartStrategy='drop')\n",
    "rec_model = rec.fit(train)"
   ]
  },
  {
   "cell_type": "code",
   "execution_count": 15,
   "metadata": {},
   "outputs": [
    {
     "name": "stdout",
     "output_type": "stream",
     "text": [
      "root\n",
      " |-- userId: integer (nullable = true)\n",
      " |-- title: string (nullable = true)\n",
      " |-- rating: integer (nullable = true)\n",
      " |-- title_new: double (nullable = false)\n",
      " |-- prediction: float (nullable = false)\n",
      "\n"
     ]
    }
   ],
   "source": [
    "\"\"\" 基于测试数据进行预测和评估 \"\"\"\n",
    "predicted_ratings = rec_model.transform(test)\n",
    "predicted_ratings.printSchema()"
   ]
  },
  {
   "cell_type": "code",
   "execution_count": 17,
   "metadata": {},
   "outputs": [
    {
     "data": {
      "text/plain": [
       "1.0223097211337286"
      ]
     },
     "execution_count": 17,
     "metadata": {},
     "output_type": "execute_result"
    }
   ],
   "source": [
    "\"\"\" 评估模型 \"\"\"\n",
    "evaluator = RegressionEvaluator(metricName='rmse', predictionCol='prediction', labelCol='rating')\n",
    "rmse = evaluator.evaluate(predicted_ratings)\n",
    "rmse"
   ]
  },
  {
   "cell_type": "code",
   "execution_count": 18,
   "metadata": {},
   "outputs": [
    {
     "data": {
      "text/plain": [
       "1664"
      ]
     },
     "execution_count": 18,
     "metadata": {},
     "output_type": "execute_result"
    }
   ],
   "source": [
    "\"\"\" 创建存储独立的电影的DataFrame \"\"\"\n",
    "unique_movies = indexed.select('title_new').distinct()\n",
    "unique_movies.count()"
   ]
  },
  {
   "cell_type": "code",
   "execution_count": 19,
   "metadata": {
    "scrolled": true
   },
   "outputs": [
    {
     "name": "stdout",
     "output_type": "stream",
     "text": [
      "+---------+\n",
      "|title_new|\n",
      "+---------+\n",
      "|    305.0|\n",
      "|    596.0|\n",
      "|    299.0|\n",
      "|    769.0|\n",
      "|    692.0|\n",
      "|    934.0|\n",
      "|   1051.0|\n",
      "|    496.0|\n",
      "|    558.0|\n",
      "|    170.0|\n",
      "|    184.0|\n",
      "|    576.0|\n",
      "|    147.0|\n",
      "|    810.0|\n",
      "|    720.0|\n",
      "|    782.0|\n",
      "|   1369.0|\n",
      "|   1587.0|\n",
      "|    160.0|\n",
      "|    608.0|\n",
      "+---------+\n",
      "only showing top 20 rows\n",
      "\n"
     ]
    }
   ],
   "source": [
    "a = unique_movies.alias('a')\n",
    "a.show()"
   ]
  },
  {
   "cell_type": "code",
   "execution_count": 20,
   "metadata": {},
   "outputs": [],
   "source": [
    "\"\"\" 以userId=85为例子 \"\"\"\n",
    "user_id = 85"
   ]
  },
  {
   "cell_type": "code",
   "execution_count": 21,
   "metadata": {},
   "outputs": [
    {
     "data": {
      "text/plain": [
       "287"
      ]
     },
     "execution_count": 21,
     "metadata": {},
     "output_type": "execute_result"
    }
   ],
   "source": [
    "\"\"\" 过滤活动用户已经评过分或已经观看过的电影 \"\"\"\n",
    "watched_movies = indexed.filter(indexed['userId'] == user_id).select('title_new').distinct()\n",
    "watched_movies.count()"
   ]
  },
  {
   "cell_type": "code",
   "execution_count": 22,
   "metadata": {
    "scrolled": true
   },
   "outputs": [
    {
     "name": "stdout",
     "output_type": "stream",
     "text": [
      "+---------+\n",
      "|title_new|\n",
      "+---------+\n",
      "|    305.0|\n",
      "|    558.0|\n",
      "|    147.0|\n",
      "|     70.0|\n",
      "|     67.0|\n",
      "|      8.0|\n",
      "|    168.0|\n",
      "|     69.0|\n",
      "|      0.0|\n",
      "|    249.0|\n",
      "|    365.0|\n",
      "|    142.0|\n",
      "|    724.0|\n",
      "|   1131.0|\n",
      "|    154.0|\n",
      "|    112.0|\n",
      "|    124.0|\n",
      "|    997.0|\n",
      "|    253.0|\n",
      "|    331.0|\n",
      "+---------+\n",
      "only showing top 20 rows\n",
      "\n"
     ]
    }
   ],
   "source": [
    "b = watched_movies.alias('b')\n",
    "b.show()"
   ]
  },
  {
   "cell_type": "code",
   "execution_count": 23,
   "metadata": {},
   "outputs": [
    {
     "name": "stdout",
     "output_type": "stream",
     "text": [
      "+---------+---------+\n",
      "|title_new|title_new|\n",
      "+---------+---------+\n",
      "|305.0    |305.0    |\n",
      "|596.0    |null     |\n",
      "|299.0    |null     |\n",
      "|769.0    |null     |\n",
      "|692.0    |null     |\n",
      "|934.0    |null     |\n",
      "|1051.0   |null     |\n",
      "|496.0    |null     |\n",
      "|558.0    |558.0    |\n",
      "|170.0    |null     |\n",
      "+---------+---------+\n",
      "only showing top 10 rows\n",
      "\n"
     ]
    }
   ],
   "source": [
    "\"\"\" 通过过滤空值找出推荐的电影 \"\"\"\n",
    "total_movies = a.join(b, a.title_new == b.title_new, how='left')\n",
    "total_movies.show(10, False)"
   ]
  },
  {
   "cell_type": "code",
   "execution_count": 25,
   "metadata": {},
   "outputs": [
    {
     "data": {
      "text/plain": [
       "1377"
      ]
     },
     "execution_count": 25,
     "metadata": {},
     "output_type": "execute_result"
    }
   ],
   "source": [
    "remaining_movies = total_movies.where(col('b.title_new').isNull()).select(a.title_new).distinct()\n",
    "remaining_movies.count()"
   ]
  },
  {
   "cell_type": "code",
   "execution_count": 26,
   "metadata": {},
   "outputs": [
    {
     "name": "stdout",
     "output_type": "stream",
     "text": [
      "+---------+------+\n",
      "|title_new|userId|\n",
      "+---------+------+\n",
      "|596.0    |85    |\n",
      "|299.0    |85    |\n",
      "|769.0    |85    |\n",
      "|692.0    |85    |\n",
      "|934.0    |85    |\n",
      "|1051.0   |85    |\n",
      "|496.0    |85    |\n",
      "|170.0    |85    |\n",
      "|184.0    |85    |\n",
      "|576.0    |85    |\n",
      "+---------+------+\n",
      "only showing top 10 rows\n",
      "\n"
     ]
    }
   ],
   "source": [
    "remaining_movies = remaining_movies.withColumn('userId', lit(int(user_id)))\n",
    "remaining_movies.show(10, False)"
   ]
  },
  {
   "cell_type": "code",
   "execution_count": 27,
   "metadata": {},
   "outputs": [
    {
     "name": "stdout",
     "output_type": "stream",
     "text": [
      "+---------+------+----------+\n",
      "|title_new|userId|prediction|\n",
      "+---------+------+----------+\n",
      "|1207.0   |85    |5.16905   |\n",
      "|1198.0   |85    |4.6603785 |\n",
      "|928.0    |85    |4.658463  |\n",
      "|1411.0   |85    |4.649621  |\n",
      "|1289.0   |85    |4.638052  |\n",
      "+---------+------+----------+\n",
      "only showing top 5 rows\n",
      "\n"
     ]
    }
   ],
   "source": [
    "\"\"\" 过滤具有最高预测评分的一些排在前面的推荐影片 \"\"\"\n",
    "recommendations = rec_model.transform(remaining_movies).orderBy('prediction', ascending=False)\n",
    "recommendations.show(5, False)"
   ]
  },
  {
   "cell_type": "code",
   "execution_count": 28,
   "metadata": {},
   "outputs": [
    {
     "name": "stdout",
     "output_type": "stream",
     "text": [
      "+---------+------+----------+------------------------------------------------------------------+\n",
      "|title_new|userId|prediction|title                                                             |\n",
      "+---------+------+----------+------------------------------------------------------------------+\n",
      "|1207.0   |85    |5.16905   |Aparajito (1956)                                                  |\n",
      "|1198.0   |85    |4.6603785 |Pather Panchali (1955)                                            |\n",
      "|928.0    |85    |4.658463  |Paradise Lost: The Child Murders at Robin Hood Hills (1996)       |\n",
      "|1411.0   |85    |4.649621  |Boys, Les (1997)                                                  |\n",
      "|1289.0   |85    |4.638052  |World of Apu, The (Apur Sansar) (1959)                            |\n",
      "|1347.0   |85    |4.5744815 |Angel Baby (1995)                                                 |\n",
      "|1393.0   |85    |4.5722694 |Schizopolis (1996)                                                |\n",
      "|1518.0   |85    |4.4683747 |Some Mother's Son (1996)                                          |\n",
      "|1465.0   |85    |4.444833  |Anna (1996)                                                       |\n",
      "|892.0    |85    |4.397262  |Double vie de V�ronique, La (Double Life of Veronique, The) (1991)|\n",
      "+---------+------+----------+------------------------------------------------------------------+\n",
      "only showing top 10 rows\n",
      "\n"
     ]
    }
   ],
   "source": [
    "\"\"\" 使用IndexToString函数来创建一个可以返回电影名称的额外列 \"\"\"\n",
    "movie_title = IndexToString(inputCol='title_new', outputCol='title', labels=model.labels)\n",
    "final_recommendations = movie_title.transform(recommendations)\n",
    "final_recommendations.show(10, False)"
   ]
  }
 ],
 "metadata": {
  "kernelspec": {
   "display_name": "Python [conda env:lkm]",
   "language": "python",
   "name": "lkm"
  },
  "language_info": {
   "codemirror_mode": {
    "name": "ipython",
    "version": 3
   },
   "file_extension": ".py",
   "mimetype": "text/x-python",
   "name": "python",
   "nbconvert_exporter": "python",
   "pygments_lexer": "ipython3",
   "version": "3.7.7"
  }
 },
 "nbformat": 4,
 "nbformat_minor": 4
}