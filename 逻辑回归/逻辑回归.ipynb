{
 "cells": [
  {
   "cell_type": "code",
   "execution_count": 1,
   "metadata": {
    "collapsed": true
   },
   "outputs": [],
   "source": [
    "\"\"\" 导入模块 \"\"\"\n",
    "from pyspark.sql import SparkSession\n",
    "from pyspark.ml.feature import StringIndexer\n",
    "from pyspark.ml.feature import VectorAssembler\n",
    "from pyspark.ml.feature import OneHotEncoder\n",
    "from pyspark.ml.classification import LogisticRegression"
   ]
  },
  {
   "cell_type": "code",
   "execution_count": 2,
   "outputs": [],
   "source": [
    "\"\"\" 创建Spark会话对象 \"\"\"\n",
    "spark = SparkSession.builder.appName('log_reg').getOrCreate()"
   ],
   "metadata": {
    "collapsed": false,
    "pycharm": {
     "name": "#%%\n"
    }
   }
  },
  {
   "cell_type": "code",
   "execution_count": 4,
   "outputs": [],
   "source": [
    "\"\"\" 读取数据集 \"\"\"\n",
    "df = spark.read.csv('Log_Reg_dataset.csv',\n",
    "                    inferSchema=True,\n",
    "                    header=True)"
   ],
   "metadata": {
    "collapsed": false,
    "pycharm": {
     "name": "#%%\n"
    }
   }
  },
  {
   "cell_type": "code",
   "execution_count": 5,
   "outputs": [
    {
     "name": "stdout",
     "output_type": "stream",
     "text": [
      "+---------+---+--------------+--------+----------------+------+\n",
      "|  Country|Age|Repeat_Visitor|Platform|Web_pages_viewed|Status|\n",
      "+---------+---+--------------+--------+----------------+------+\n",
      "|    India| 41|             1|   Yahoo|              21|     1|\n",
      "|   Brazil| 28|             1|   Yahoo|               5|     0|\n",
      "|   Brazil| 40|             0|  Google|               3|     0|\n",
      "|Indonesia| 31|             1|    Bing|              15|     1|\n",
      "| Malaysia| 32|             0|  Google|              15|     1|\n",
      "|   Brazil| 32|             0|  Google|               3|     0|\n",
      "|   Brazil| 32|             0|  Google|               6|     0|\n",
      "|Indonesia| 27|             0|  Google|               9|     0|\n",
      "|Indonesia| 32|             0|   Yahoo|               2|     0|\n",
      "|Indonesia| 31|             1|    Bing|              16|     1|\n",
      "| Malaysia| 27|             1|  Google|              21|     1|\n",
      "|Indonesia| 29|             1|   Yahoo|               9|     1|\n",
      "|Indonesia| 33|             1|   Yahoo|              20|     1|\n",
      "|Indonesia| 35|             0|    Bing|               2|     0|\n",
      "|    India| 27|             1|   Yahoo|              21|     1|\n",
      "|Indonesia| 35|             0|    Bing|               2|     0|\n",
      "|Indonesia| 19|             1|   Yahoo|              17|     1|\n",
      "|Indonesia| 17|             1|   Yahoo|              13|     1|\n",
      "| Malaysia| 46|             0|   Yahoo|               5|     0|\n",
      "|Indonesia| 24|             0|  Google|               7|     0|\n",
      "+---------+---+--------------+--------+----------------+------+\n",
      "only showing top 20 rows\n",
      "\n"
     ]
    }
   ],
   "source": [
    "\"\"\" 查看前20行数据 \"\"\"\n",
    "df.show()"
   ],
   "metadata": {
    "collapsed": false,
    "pycharm": {
     "name": "#%%\n"
    }
   }
  },
  {
   "cell_type": "code",
   "execution_count": 6,
   "outputs": [
    {
     "data": {
      "text/plain": "(20000, 6)"
     },
     "execution_count": 6,
     "metadata": {},
     "output_type": "execute_result"
    }
   ],
   "source": [
    "\"\"\" 查看数据形状结构 \"\"\"\n",
    "(df.count(), len(df.columns))"
   ],
   "metadata": {
    "collapsed": false,
    "pycharm": {
     "name": "#%%\n"
    }
   }
  },
  {
   "cell_type": "code",
   "execution_count": 7,
   "outputs": [
    {
     "name": "stdout",
     "output_type": "stream",
     "text": [
      "root\n",
      " |-- Country: string (nullable = true)\n",
      " |-- Age: integer (nullable = true)\n",
      " |-- Repeat_Visitor: integer (nullable = true)\n",
      " |-- Platform: string (nullable = true)\n",
      " |-- Web_pages_viewed: integer (nullable = true)\n",
      " |-- Status: integer (nullable = true)\n",
      "\n"
     ]
    }
   ],
   "source": [
    "\"\"\" 查看数据字段类型 \"\"\"\n",
    "df.printSchema()"
   ],
   "metadata": {
    "collapsed": false,
    "pycharm": {
     "name": "#%%\n"
    }
   }
  },
  {
   "cell_type": "code",
   "execution_count": 8,
   "outputs": [
    {
     "name": "stdout",
     "output_type": "stream",
     "text": [
      "+-------+--------+-----------------+-----------------+--------+-----------------+------------------+\n",
      "|summary| Country|              Age|   Repeat_Visitor|Platform| Web_pages_viewed|            Status|\n",
      "+-------+--------+-----------------+-----------------+--------+-----------------+------------------+\n",
      "|  count|   20000|            20000|            20000|   20000|            20000|             20000|\n",
      "|   mean|    null|         28.53955|           0.5029|    null|           9.5533|               0.5|\n",
      "| stddev|    null|7.888912950773227|0.500004090187782|    null|6.073903499824976|0.5000125004687693|\n",
      "|    min|  Brazil|               17|                0|    Bing|                1|                 0|\n",
      "|    max|Malaysia|              111|                1|   Yahoo|               29|                 1|\n",
      "+-------+--------+-----------------+-----------------+--------+-----------------+------------------+\n",
      "\n"
     ]
    }
   ],
   "source": [
    "\"\"\" 查看统计指标 \"\"\"\n",
    "df.describe().show()"
   ],
   "metadata": {
    "collapsed": false,
    "pycharm": {
     "name": "#%%\n"
    }
   }
  },
  {
   "cell_type": "code",
   "execution_count": 9,
   "outputs": [
    {
     "name": "stdout",
     "output_type": "stream",
     "text": [
      "+---------+-----+\n",
      "|  Country|count|\n",
      "+---------+-----+\n",
      "| Malaysia| 1218|\n",
      "|    India| 4018|\n",
      "|Indonesia|12178|\n",
      "|   Brazil| 2586|\n",
      "+---------+-----+\n",
      "\n"
     ]
    }
   ],
   "source": [
    "\"\"\" 查看Country每个国家出现的次数 \"\"\"\n",
    "df.groupBy('Country').count().show()"
   ],
   "metadata": {
    "collapsed": false,
    "pycharm": {
     "name": "#%%\n"
    }
   }
  },
  {
   "cell_type": "code",
   "execution_count": 11,
   "outputs": [
    {
     "name": "stdout",
     "output_type": "stream",
     "text": [
      "+--------+-----+\n",
      "|Platform|count|\n",
      "+--------+-----+\n",
      "|   Yahoo| 9859|\n",
      "|    Bing| 4360|\n",
      "|  Google| 5781|\n",
      "+--------+-----+\n",
      "\n"
     ]
    }
   ],
   "source": [
    "\"\"\" 查看Platform每个网站门户出现的次数 \"\"\"\n",
    "df.groupBy('Platform').count().show()"
   ],
   "metadata": {
    "collapsed": false,
    "pycharm": {
     "name": "#%%\n"
    }
   }
  },
  {
   "cell_type": "code",
   "execution_count": 12,
   "outputs": [
    {
     "name": "stdout",
     "output_type": "stream",
     "text": [
      "+------+-----+\n",
      "|Status|count|\n",
      "+------+-----+\n",
      "|     1|10000|\n",
      "|     0|10000|\n",
      "+------+-----+\n",
      "\n"
     ]
    }
   ],
   "source": [
    "\"\"\" 查看Status每个类别出现的次数 \"\"\"\n",
    "df.groupBy('Status').count().show()"
   ],
   "metadata": {
    "collapsed": false,
    "pycharm": {
     "name": "#%%\n"
    }
   }
  },
  {
   "cell_type": "code",
   "execution_count": 13,
   "outputs": [
    {
     "name": "stdout",
     "output_type": "stream",
     "text": [
      "+---------+------------------+-------------------+---------------------+--------------------+\n",
      "|  Country|          avg(Age)|avg(Repeat_Visitor)|avg(Web_pages_viewed)|         avg(Status)|\n",
      "+---------+------------------+-------------------+---------------------+--------------------+\n",
      "| Malaysia|27.792282430213465| 0.5730706075533661|   11.192118226600986|  0.6568144499178982|\n",
      "|    India|27.976854156296664| 0.5433051269288203|   10.727227476356397|  0.6212045793927327|\n",
      "|Indonesia| 28.43159796354081| 0.5207751683363442|    9.985711939563148|  0.5422893742814913|\n",
      "|   Brazil|30.274168600154677|  0.322892498066512|    4.921113689095128|0.038669760247486466|\n",
      "+---------+------------------+-------------------+---------------------+--------------------+\n",
      "\n"
     ]
    }
   ],
   "source": [
    "\"\"\"  \"\"\"\n",
    "df.groupBy('Country').mean().show()"
   ],
   "metadata": {
    "collapsed": false,
    "pycharm": {
     "name": "#%%\n"
    }
   }
  },
  {
   "cell_type": "code",
   "execution_count": 14,
   "outputs": [
    {
     "name": "stdout",
     "output_type": "stream",
     "text": [
      "+--------+------------------+-------------------+---------------------+------------------+\n",
      "|Platform|          avg(Age)|avg(Repeat_Visitor)|avg(Web_pages_viewed)|       avg(Status)|\n",
      "+--------+------------------+-------------------+---------------------+------------------+\n",
      "|   Yahoo|28.569226087838523| 0.5094837204584644|    9.599655137437875|0.5071508266558474|\n",
      "|    Bing| 28.68394495412844| 0.4720183486238532|    9.114908256880733|0.4559633027522936|\n",
      "|  Google|28.380038055699707| 0.5149628092025601|    9.804878048780488|0.5210171250648676|\n",
      "+--------+------------------+-------------------+---------------------+------------------+\n",
      "\n"
     ]
    }
   ],
   "source": [
    "df.groupBy('Platform').mean().show()"
   ],
   "metadata": {
    "collapsed": false,
    "pycharm": {
     "name": "#%%\n"
    }
   }
  },
  {
   "cell_type": "code",
   "execution_count": 15,
   "outputs": [
    {
     "name": "stdout",
     "output_type": "stream",
     "text": [
      "+------+--------+-------------------+---------------------+-----------+\n",
      "|Status|avg(Age)|avg(Repeat_Visitor)|avg(Web_pages_viewed)|avg(Status)|\n",
      "+------+--------+-------------------+---------------------+-----------+\n",
      "|     1| 26.5435|             0.7019|              14.5617|        1.0|\n",
      "|     0| 30.5356|             0.3039|               4.5449|        0.0|\n",
      "+------+--------+-------------------+---------------------+-----------+\n",
      "\n"
     ]
    }
   ],
   "source": [
    "df.groupBy('Status').mean().show()"
   ],
   "metadata": {
    "collapsed": false,
    "pycharm": {
     "name": "#%%\n"
    }
   }
  },
  {
   "cell_type": "code",
   "execution_count": 16,
   "outputs": [],
   "source": [
    "\"\"\" 特征工程 \"\"\"\n",
    "search_engine_indexer = StringIndexer(inputCol='Platform', outputCol='Platform_Num').fit(df)\n",
    "df = search_engine_indexer.transform(df)"
   ],
   "metadata": {
    "collapsed": false,
    "pycharm": {
     "name": "#%%\n"
    }
   }
  },
  {
   "cell_type": "code",
   "execution_count": 19,
   "outputs": [
    {
     "name": "stdout",
     "output_type": "stream",
     "text": [
      "+-------+---+--------------+--------+----------------+------+------------+\n",
      "|Country|Age|Repeat_Visitor|Platform|Web_pages_viewed|Status|Platform_Num|\n",
      "+-------+---+--------------+--------+----------------+------+------------+\n",
      "|India  |41 |1             |Yahoo   |21              |1     |0.0         |\n",
      "|Brazil |28 |1             |Yahoo   |5               |0     |0.0         |\n",
      "|Brazil |40 |0             |Google  |3               |0     |1.0         |\n",
      "+-------+---+--------------+--------+----------------+------+------------+\n",
      "only showing top 3 rows\n",
      "\n"
     ]
    }
   ],
   "source": [
    "df.show(3, False)"
   ],
   "metadata": {
    "collapsed": false,
    "pycharm": {
     "name": "#%%\n"
    }
   }
  },
  {
   "cell_type": "code",
   "execution_count": 20,
   "outputs": [],
   "source": [
    "\"\"\" 独热编码 \"\"\"\n",
    "search_engine_encoder = OneHotEncoder(inputCol='Platform_Num', outputCol='Platform_Vector')\n",
    "df = search_engine_encoder.transform(df)"
   ],
   "metadata": {
    "collapsed": false,
    "pycharm": {
     "name": "#%%\n"
    }
   }
  },
  {
   "cell_type": "code",
   "execution_count": 21,
   "outputs": [
    {
     "name": "stdout",
     "output_type": "stream",
     "text": [
      "+---------+---+--------------+--------+----------------+------+------------+---------------+\n",
      "|  Country|Age|Repeat_Visitor|Platform|Web_pages_viewed|Status|Platform_Num|Platform_Vector|\n",
      "+---------+---+--------------+--------+----------------+------+------------+---------------+\n",
      "|    India| 41|             1|   Yahoo|              21|     1|         0.0|  (2,[0],[1.0])|\n",
      "|   Brazil| 28|             1|   Yahoo|               5|     0|         0.0|  (2,[0],[1.0])|\n",
      "|   Brazil| 40|             0|  Google|               3|     0|         1.0|  (2,[1],[1.0])|\n",
      "|Indonesia| 31|             1|    Bing|              15|     1|         2.0|      (2,[],[])|\n",
      "| Malaysia| 32|             0|  Google|              15|     1|         1.0|  (2,[1],[1.0])|\n",
      "|   Brazil| 32|             0|  Google|               3|     0|         1.0|  (2,[1],[1.0])|\n",
      "|   Brazil| 32|             0|  Google|               6|     0|         1.0|  (2,[1],[1.0])|\n",
      "|Indonesia| 27|             0|  Google|               9|     0|         1.0|  (2,[1],[1.0])|\n",
      "|Indonesia| 32|             0|   Yahoo|               2|     0|         0.0|  (2,[0],[1.0])|\n",
      "|Indonesia| 31|             1|    Bing|              16|     1|         2.0|      (2,[],[])|\n",
      "| Malaysia| 27|             1|  Google|              21|     1|         1.0|  (2,[1],[1.0])|\n",
      "|Indonesia| 29|             1|   Yahoo|               9|     1|         0.0|  (2,[0],[1.0])|\n",
      "|Indonesia| 33|             1|   Yahoo|              20|     1|         0.0|  (2,[0],[1.0])|\n",
      "|Indonesia| 35|             0|    Bing|               2|     0|         2.0|      (2,[],[])|\n",
      "|    India| 27|             1|   Yahoo|              21|     1|         0.0|  (2,[0],[1.0])|\n",
      "|Indonesia| 35|             0|    Bing|               2|     0|         2.0|      (2,[],[])|\n",
      "|Indonesia| 19|             1|   Yahoo|              17|     1|         0.0|  (2,[0],[1.0])|\n",
      "|Indonesia| 17|             1|   Yahoo|              13|     1|         0.0|  (2,[0],[1.0])|\n",
      "| Malaysia| 46|             0|   Yahoo|               5|     0|         0.0|  (2,[0],[1.0])|\n",
      "|Indonesia| 24|             0|  Google|               7|     0|         1.0|  (2,[1],[1.0])|\n",
      "+---------+---+--------------+--------+----------------+------+------------+---------------+\n",
      "only showing top 20 rows\n",
      "\n"
     ]
    }
   ],
   "source": [
    "df.show()"
   ],
   "metadata": {
    "collapsed": false,
    "pycharm": {
     "name": "#%%\n"
    }
   }
  },
  {
   "cell_type": "code",
   "execution_count": 22,
   "outputs": [],
   "source": [
    "country_indexer = StringIndexer(inputCol='Country', outputCol='Country_Num').fit(df)\n",
    "df = country_indexer.transform(df)"
   ],
   "metadata": {
    "collapsed": false,
    "pycharm": {
     "name": "#%%\n"
    }
   }
  },
  {
   "cell_type": "code",
   "execution_count": 23,
   "outputs": [
    {
     "name": "stdout",
     "output_type": "stream",
     "text": [
      "+---------+---+--------------+--------+----------------+------+------------+---------------+-----------+\n",
      "|  Country|Age|Repeat_Visitor|Platform|Web_pages_viewed|Status|Platform_Num|Platform_Vector|Country_Num|\n",
      "+---------+---+--------------+--------+----------------+------+------------+---------------+-----------+\n",
      "|    India| 41|             1|   Yahoo|              21|     1|         0.0|  (2,[0],[1.0])|        1.0|\n",
      "|   Brazil| 28|             1|   Yahoo|               5|     0|         0.0|  (2,[0],[1.0])|        2.0|\n",
      "|   Brazil| 40|             0|  Google|               3|     0|         1.0|  (2,[1],[1.0])|        2.0|\n",
      "|Indonesia| 31|             1|    Bing|              15|     1|         2.0|      (2,[],[])|        0.0|\n",
      "| Malaysia| 32|             0|  Google|              15|     1|         1.0|  (2,[1],[1.0])|        3.0|\n",
      "|   Brazil| 32|             0|  Google|               3|     0|         1.0|  (2,[1],[1.0])|        2.0|\n",
      "|   Brazil| 32|             0|  Google|               6|     0|         1.0|  (2,[1],[1.0])|        2.0|\n",
      "|Indonesia| 27|             0|  Google|               9|     0|         1.0|  (2,[1],[1.0])|        0.0|\n",
      "|Indonesia| 32|             0|   Yahoo|               2|     0|         0.0|  (2,[0],[1.0])|        0.0|\n",
      "|Indonesia| 31|             1|    Bing|              16|     1|         2.0|      (2,[],[])|        0.0|\n",
      "| Malaysia| 27|             1|  Google|              21|     1|         1.0|  (2,[1],[1.0])|        3.0|\n",
      "|Indonesia| 29|             1|   Yahoo|               9|     1|         0.0|  (2,[0],[1.0])|        0.0|\n",
      "|Indonesia| 33|             1|   Yahoo|              20|     1|         0.0|  (2,[0],[1.0])|        0.0|\n",
      "|Indonesia| 35|             0|    Bing|               2|     0|         2.0|      (2,[],[])|        0.0|\n",
      "|    India| 27|             1|   Yahoo|              21|     1|         0.0|  (2,[0],[1.0])|        1.0|\n",
      "|Indonesia| 35|             0|    Bing|               2|     0|         2.0|      (2,[],[])|        0.0|\n",
      "|Indonesia| 19|             1|   Yahoo|              17|     1|         0.0|  (2,[0],[1.0])|        0.0|\n",
      "|Indonesia| 17|             1|   Yahoo|              13|     1|         0.0|  (2,[0],[1.0])|        0.0|\n",
      "| Malaysia| 46|             0|   Yahoo|               5|     0|         0.0|  (2,[0],[1.0])|        3.0|\n",
      "|Indonesia| 24|             0|  Google|               7|     0|         1.0|  (2,[1],[1.0])|        0.0|\n",
      "+---------+---+--------------+--------+----------------+------+------------+---------------+-----------+\n",
      "only showing top 20 rows\n",
      "\n"
     ]
    }
   ],
   "source": [
    "df.show()"
   ],
   "metadata": {
    "collapsed": false,
    "pycharm": {
     "name": "#%%\n"
    }
   }
  },
  {
   "cell_type": "code",
   "execution_count": 24,
   "outputs": [],
   "source": [
    "country_encoder = OneHotEncoder(inputCol='Country_Num', outputCol='Country_Vector')\n",
    "df = country_encoder.transform(df)"
   ],
   "metadata": {
    "collapsed": false,
    "pycharm": {
     "name": "#%%\n"
    }
   }
  },
  {
   "cell_type": "code",
   "execution_count": 25,
   "outputs": [
    {
     "name": "stdout",
     "output_type": "stream",
     "text": [
      "root\n",
      " |-- Country: string (nullable = true)\n",
      " |-- Age: integer (nullable = true)\n",
      " |-- Repeat_Visitor: integer (nullable = true)\n",
      " |-- Platform: string (nullable = true)\n",
      " |-- Web_pages_viewed: integer (nullable = true)\n",
      " |-- Status: integer (nullable = true)\n",
      " |-- Platform_Num: double (nullable = false)\n",
      " |-- Platform_Vector: vector (nullable = true)\n",
      " |-- Country_Num: double (nullable = false)\n",
      " |-- Country_Vector: vector (nullable = true)\n",
      " |-- features: vector (nullable = true)\n",
      "\n"
     ]
    }
   ],
   "source": [
    "df_assembler = VectorAssembler(inputCols=['Platform_Vector', 'Country_Vector', 'Age', 'Repeat_Visitor', 'Web_pages_viewed'], outputCol='features')\n",
    "df = df_assembler.transform(df)\n",
    "df.printSchema()"
   ],
   "metadata": {
    "collapsed": false,
    "pycharm": {
     "name": "#%%\n"
    }
   }
  },
  {
   "cell_type": "code",
   "execution_count": 26,
   "outputs": [],
   "source": [
    "model_df = df.select(['features', 'Status'])"
   ],
   "metadata": {
    "collapsed": false,
    "pycharm": {
     "name": "#%%\n"
    }
   }
  },
  {
   "cell_type": "code",
   "execution_count": 28,
   "outputs": [
    {
     "name": "stdout",
     "output_type": "stream",
     "text": [
      "+-----------------------------------+------+\n",
      "|features                           |Status|\n",
      "+-----------------------------------+------+\n",
      "|[1.0,0.0,0.0,1.0,0.0,41.0,1.0,21.0]|1     |\n",
      "|[1.0,0.0,0.0,0.0,1.0,28.0,1.0,5.0] |0     |\n",
      "|(8,[1,4,5,7],[1.0,1.0,40.0,3.0])   |0     |\n",
      "+-----------------------------------+------+\n",
      "only showing top 3 rows\n",
      "\n"
     ]
    }
   ],
   "source": [
    "model_df.show(3, False)"
   ],
   "metadata": {
    "collapsed": false,
    "pycharm": {
     "name": "#%%\n"
    }
   }
  },
  {
   "cell_type": "code",
   "execution_count": 29,
   "outputs": [],
   "source": [
    "\"\"\" 划分数据集 \"\"\"\n",
    "train_df, test_df = model_df.randomSplit([0.75, 0.25])"
   ],
   "metadata": {
    "collapsed": false,
    "pycharm": {
     "name": "#%%\n"
    }
   }
  },
  {
   "cell_type": "code",
   "execution_count": 30,
   "outputs": [],
   "source": [
    "\"\"\" 构建和训练逻辑回归模型 \"\"\"\n",
    "log_reg = LogisticRegression(labelCol='Status').fit(train_df)"
   ],
   "metadata": {
    "collapsed": false,
    "pycharm": {
     "name": "#%%\n"
    }
   }
  },
  {
   "cell_type": "code",
   "execution_count": 32,
   "outputs": [
    {
     "name": "stdout",
     "output_type": "stream",
     "text": [
      "+------+----------+----------------------------------------+\n",
      "|Status|prediction|probability                             |\n",
      "+------+----------+----------------------------------------+\n",
      "|1     |1.0       |[0.3029767325575794,0.6970232674424207] |\n",
      "|1     |1.0       |[0.3029767325575794,0.6970232674424207] |\n",
      "|1     |1.0       |[0.16933486681801524,0.8306651331819848]|\n",
      "|1     |1.0       |[0.16933486681801524,0.8306651331819848]|\n",
      "|1     |1.0       |[0.16933486681801524,0.8306651331819848]|\n",
      "|1     |1.0       |[0.16933486681801524,0.8306651331819848]|\n",
      "|1     |1.0       |[0.0872619606177328,0.9127380393822673] |\n",
      "|1     |1.0       |[0.0872619606177328,0.9127380393822673] |\n",
      "|1     |1.0       |[0.0872619606177328,0.9127380393822673] |\n",
      "|1     |1.0       |[0.0872619606177328,0.9127380393822673] |\n",
      "+------+----------+----------------------------------------+\n",
      "only showing top 10 rows\n",
      "\n"
     ]
    }
   ],
   "source": [
    "\"\"\" 训练结果 \"\"\"\n",
    "train_results = log_reg.evaluate(train_df).predictions\n",
    "train_results.filter(train_results['Status'] == 1).filter(train_results['prediction']==1).select(['Status', 'prediction','probability']).show(10, False)"
   ],
   "metadata": {
    "collapsed": false,
    "pycharm": {
     "name": "#%%\n"
    }
   }
  },
  {
   "cell_type": "code",
   "execution_count": 33,
   "outputs": [
    {
     "name": "stdout",
     "output_type": "stream",
     "text": [
      "root\n",
      " |-- features: vector (nullable = true)\n",
      " |-- Status: integer (nullable = true)\n",
      " |-- rawPrediction: vector (nullable = true)\n",
      " |-- probability: vector (nullable = true)\n",
      " |-- prediction: double (nullable = false)\n",
      "\n"
     ]
    }
   ],
   "source": [
    "results = log_reg.evaluate(test_df).predictions\n",
    "results.printSchema()"
   ],
   "metadata": {
    "collapsed": false,
    "pycharm": {
     "name": "#%%\n"
    }
   }
  },
  {
   "cell_type": "code",
   "execution_count": 34,
   "outputs": [
    {
     "name": "stdout",
     "output_type": "stream",
     "text": [
      "+------+----------+\n",
      "|Status|prediction|\n",
      "+------+----------+\n",
      "|0     |0.0       |\n",
      "|0     |0.0       |\n",
      "|0     |0.0       |\n",
      "|0     |0.0       |\n",
      "|0     |0.0       |\n",
      "|0     |0.0       |\n",
      "|0     |0.0       |\n",
      "|0     |0.0       |\n",
      "|0     |0.0       |\n",
      "|0     |0.0       |\n",
      "+------+----------+\n",
      "only showing top 10 rows\n",
      "\n"
     ]
    }
   ],
   "source": [
    "results.select(['Status', 'prediction']).show(10, False)"
   ],
   "metadata": {
    "collapsed": false,
    "pycharm": {
     "name": "#%%\n"
    }
   }
  },
  {
   "cell_type": "code",
   "execution_count": 35,
   "outputs": [],
   "source": [
    "\"\"\" 混淆矩阵 \"\"\"\n",
    "tp = results[(results.Status == 1) & (results.prediction == 1)].count()\n",
    "tn = results[(results.Status == 0) & (results.prediction == 0)].count()\n",
    "fp = results[(results.Status == 0) & (results.prediction == 1)].count()\n",
    "fn = results[(results.Status == 1) & (results.prediction == 0)].count()"
   ],
   "metadata": {
    "collapsed": false,
    "pycharm": {
     "name": "#%%\n"
    }
   }
  },
  {
   "cell_type": "code",
   "execution_count": 36,
   "outputs": [
    {
     "name": "stdout",
     "output_type": "stream",
     "text": [
      "0.9382863990413421\n"
     ]
    }
   ],
   "source": [
    "\"\"\" 准确率 \"\"\"\n",
    "accuracy = float((tp + tn) / (results.count()))\n",
    "print(accuracy)"
   ],
   "metadata": {
    "collapsed": false,
    "pycharm": {
     "name": "#%%\n"
    }
   }
  },
  {
   "cell_type": "code",
   "execution_count": 37,
   "outputs": [
    {
     "name": "stdout",
     "output_type": "stream",
     "text": [
      "0.9395129615082483\n"
     ]
    }
   ],
   "source": [
    "\"\"\" 召回率 \"\"\"\n",
    "recall = float(tp) / (tp + fn)\n",
    "print(recall)"
   ],
   "metadata": {
    "collapsed": false,
    "pycharm": {
     "name": "#%%\n"
    }
   }
  },
  {
   "cell_type": "code",
   "execution_count": 38,
   "outputs": [
    {
     "name": "stdout",
     "output_type": "stream",
     "text": [
      "0.939144091087554\n"
     ]
    }
   ],
   "source": [
    "\"\"\" 精度 \"\"\"\n",
    "precision = float(tp) / (tp + fp)\n",
    "print(precision)"
   ],
   "metadata": {
    "collapsed": false,
    "pycharm": {
     "name": "#%%\n"
    }
   }
  },
  {
   "cell_type": "code",
   "execution_count": 39,
   "outputs": [
    {
     "name": "stdout",
     "output_type": "stream",
     "text": [
      "0.9393284900844295\n"
     ]
    }
   ],
   "source": [
    "\"\"\" F1分数 \"\"\"\n",
    "f1_score = 2 * ((precision * recall) / (precision + recall))\n",
    "print(f1_score)"
   ],
   "metadata": {
    "collapsed": false,
    "pycharm": {
     "name": "#%%\n"
    }
   }
  },
  {
   "cell_type": "code",
   "execution_count": null,
   "outputs": [],
   "source": [
    "\"\"\" AUC \"\"\"\n",
    "\n"
   ],
   "metadata": {
    "collapsed": false,
    "pycharm": {
     "name": "#%%\n"
    }
   }
  }
 ],
 "metadata": {
  "kernelspec": {
   "name": "lkm",
   "language": "python",
   "display_name": "Python [conda env:lkm]"
  },
  "language_info": {
   "codemirror_mode": {
    "name": "ipython",
    "version": 2
   },
   "file_extension": ".py",
   "mimetype": "text/x-python",
   "name": "python",
   "nbconvert_exporter": "python",
   "pygments_lexer": "ipython2",
   "version": "2.7.6"
  }
 },
 "nbformat": 4,
 "nbformat_minor": 0
}